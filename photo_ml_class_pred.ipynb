{
  "nbformat": 4,
  "nbformat_minor": 0,
  "metadata": {
    "colab": {
      "name": "photo_ml_class_pred.ipynb",
      "provenance": [],
      "collapsed_sections": [],
      "authorship_tag": "ABX9TyMZQhjELJOtrwAjees4St4l",
      "include_colab_link": true
    },
    "kernelspec": {
      "name": "python3",
      "display_name": "Python 3"
    },
    "language_info": {
      "name": "python"
    }
  },
  "cells": [
    {
      "cell_type": "markdown",
      "metadata": {
        "id": "view-in-github",
        "colab_type": "text"
      },
      "source": [
        "<a href=\"https://colab.research.google.com/github/abid1214/photo-ml/blob/main/photo_ml_class_pred.ipynb\" target=\"_parent\"><img src=\"https://colab.research.google.com/assets/colab-badge.svg\" alt=\"Open In Colab\"/></a>"
      ]
    },
    {
      "cell_type": "markdown",
      "metadata": {
        "id": "XwFRL1kfL1VP"
      },
      "source": [
        "# NV center classification and prediction\n"
      ]
    },
    {
      "cell_type": "markdown",
      "metadata": {
        "id": "kjahPNXrMCeY"
      },
      "source": [
        "This notebook has two aims. The first is to determine a quantititive criterion for \"Excellent\" and \"Not Excellent\" comparable to Bogdanov's classification. The second is to generate a predictive classifier for time series signals based upon a limited number of data points."
      ]
    },
    {
      "cell_type": "markdown",
      "metadata": {
        "id": "3l4hQ4idMZyA"
      },
      "source": [
        "First, we mount to the drive and cd to the current directory"
      ]
    },
    {
      "cell_type": "code",
      "metadata": {
        "id": "fLNG2gzlHr8F",
        "colab": {
          "base_uri": "https://localhost:8080/"
        },
        "outputId": "2dc81e7f-7b7f-4c29-9c49-5222ef1cc36c"
      },
      "source": [
        "from google.colab import drive\n",
        "drive.mount('/content/drive')\n",
        "%cd /content/drive/MyDrive/photo_ml/src\n",
        "!ls"
      ],
      "execution_count": null,
      "outputs": [
        {
          "output_type": "stream",
          "name": "stdout",
          "text": [
            "Mounted at /content/drive\n",
            "/content/drive/MyDrive/photo_ml/src\n",
            "photo_ml_class_pred.ipynb  tree.dot  tree.png\n"
          ]
        }
      ]
    },
    {
      "cell_type": "code",
      "metadata": {
        "id": "GRGgv7vXX_O_",
        "colab": {
          "base_uri": "https://localhost:8080/"
        },
        "outputId": "1856a3ed-54c3-4ebb-e0bd-3a5bbdd8ee9b"
      },
      "source": [
        "!pip install hurst"
      ],
      "execution_count": null,
      "outputs": [
        {
          "output_type": "stream",
          "name": "stdout",
          "text": [
            "Collecting hurst\n",
            "  Downloading hurst-0.0.5-py3-none-any.whl (5.9 kB)\n",
            "Requirement already satisfied: numpy>=1.10 in /usr/local/lib/python3.7/dist-packages (from hurst) (1.19.5)\n",
            "Requirement already satisfied: pandas>=0.18 in /usr/local/lib/python3.7/dist-packages (from hurst) (1.1.5)\n",
            "Requirement already satisfied: python-dateutil>=2.7.3 in /usr/local/lib/python3.7/dist-packages (from pandas>=0.18->hurst) (2.8.2)\n",
            "Requirement already satisfied: pytz>=2017.2 in /usr/local/lib/python3.7/dist-packages (from pandas>=0.18->hurst) (2018.9)\n",
            "Requirement already satisfied: six>=1.5 in /usr/local/lib/python3.7/dist-packages (from python-dateutil>=2.7.3->pandas>=0.18->hurst) (1.15.0)\n",
            "Installing collected packages: hurst\n",
            "Successfully installed hurst-0.0.5\n"
          ]
        }
      ]
    },
    {
      "cell_type": "code",
      "metadata": {
        "id": "bNUJNtr8IToH",
        "colab": {
          "base_uri": "https://localhost:8080/"
        },
        "outputId": "417c977d-ca43-416a-bda5-7da5d9ac080a"
      },
      "source": [
        "import pandas as pd\n",
        "import tensorflow as tf\n",
        "import numpy as np\n",
        "import scipy as sp\n",
        "import hurst as hr\n",
        "import matplotlib.pyplot as plt\n",
        "import seaborn as sns\n",
        "from keras.models import Sequential\n",
        "from keras.layers import Dense\n",
        "from keras.losses import MeanSquaredError\n",
        "from keras.metrics import Precision, BinaryAccuracy, Recall, TruePositives, FalsePositives, TrueNegatives, FalseNegatives,AUC\n",
        "from keras.models import model_from_json\n",
        "import os\n",
        "from keras.wrappers.scikit_learn import KerasClassifier\n",
        "from sklearn.model_selection import cross_val_score\n",
        "from sklearn.model_selection import StratifiedKFold\n",
        "from sklearn.pipeline import Pipeline\n",
        "from sklearn.gaussian_process.kernels import RBF\n",
        "import h5py\n",
        "import statsmodels.api as sm\n",
        "from sklearn.model_selection import train_test_split\n",
        "from sklearn.ensemble import RandomForestClassifier\n",
        "from sklearn.metrics import accuracy_score, confusion_matrix\n",
        "from sklearn.metrics import balanced_accuracy_score, recall_score, precision_score, roc_auc_score"
      ],
      "execution_count": null,
      "outputs": [
        {
          "output_type": "stream",
          "name": "stderr",
          "text": [
            "/usr/local/lib/python3.7/dist-packages/statsmodels/tools/_testing.py:19: FutureWarning: pandas.util.testing is deprecated. Use the functions in the public API at pandas.testing instead.\n",
            "  import pandas.util.testing as tm\n"
          ]
        }
      ]
    },
    {
      "cell_type": "markdown",
      "metadata": {
        "id": "d9ErpHIrMwxW"
      },
      "source": [
        "Here are some helper functions used throughout the code"
      ]
    },
    {
      "cell_type": "code",
      "metadata": {
        "id": "SOTdVZScJPTt"
      },
      "source": [
        "#padding time series with nans so all time series can fit into one matrix\n",
        "def pad_time(x, max_time):\n",
        "    new_x = x\n",
        "    x_col = x.shape[1]\n",
        "    diff = max_time - x_col\n",
        "    if diff > 0:\n",
        "        res = np.pad(new_x, ((0, 0), (0, diff)), 'constant', constant_values=(0, np.nan))\n",
        "        return res\n",
        "    return x\n",
        "\n",
        "#remove NaNs from a signal\n",
        "def clean(tmp):\n",
        "    return tmp[~np.isnan(tmp)]\n",
        "\n",
        "def standardize(tmp):\n",
        "    t = tmp-np.nanmin(tmp,axis=1)[:,None]\n",
        "    l=np.nanmax(t,axis=1)\n",
        "    return clean(t/ l[:,None])\n",
        "\n",
        "#computed the time-independent metrics\n",
        "def ts_metrics(arr):\n",
        "    if arr.ndim==1:\n",
        "        return np.nanstd(arr)/np.nanmean(arr)\n",
        "    data_mean = np.nanmean(arr,axis=1)\n",
        "    data_std = np.nanstd(arr,axis=1)\n",
        "    data_cov = data_std/data_mean\n",
        "    data_vmr = (data_std**2)/data_mean\n",
        "    return data_cov, data_mean, data_std, data_vmr\n",
        "\n",
        "\n",
        "#exponential curve\n",
        "def pl(x,a,b):\n",
        "    return a*np.exp(x*b)\n",
        "  \n",
        "#linear curve\n",
        "def line(x,a,b):\n",
        "    return a*x + b\n",
        " \n",
        "\n",
        "#sliding window for time series a with len L and stepsize S\n",
        "def broadcasting_app(a, L, S ):  # Window len = L, Stride len/stepsize = S\n",
        "    nrows = ((a.size-L)//S)+1\n",
        "    return a[S*np.arange(nrows)[:,None] + np.arange(L)] \n",
        "\n",
        "#normalize a signal (zero mean, unit variance)\n",
        "def normalize(arr):\n",
        "    tmp = clean(arr)\n",
        "    return (tmp-np.mean(tmp))/np.std(tmp)   \n",
        "\n",
        "def norm_by_mean(arr):\n",
        "    tmp = clean(arr)\n",
        "    return (tmp-np.mean(tmp))/np.mean(tmp)\n",
        "\n",
        "\n",
        "#creating Sequential Keras model with one layer\n",
        "def create_larger(in_dim=2,learn_rate=.0001,beta=0.9):\n",
        "    model = Sequential()\n",
        "    model.add(Dense(1, input_dim=in_dim, activation='sigmoid', name='dense'))\n",
        "    model.compile(loss=MeanSquaredError(),\n",
        "        optimizer=tf.keras.optimizers.Adam(learning_rate=learn_rate, beta_1=beta),\n",
        "        metrics=[BinaryAccuracy(threshold=0.5), Precision(), Recall(),TruePositives(name='tp'),FalsePositives(name='fp'),TrueNegatives(name='tn'),FalseNegatives(name='fn'),AUC(name='auc'),AUC(name='prc',curve='PR')])\n",
        "    return model\n",
        "\n",
        "def get_hurst(data_mat):\n",
        "    if data_mat.ndim == 1:\n",
        "         h,_,_ = hr.compute_Hc(clean(data_mat),kind='change')\n",
        "         return h\n",
        "    hurst_array = []\n",
        "    for i,tis in enumerate(data_mat): \n",
        "        h,_,_ = hr.compute_Hc(clean(tis),kind='change')\n",
        "        hurst_array.append(h)\n",
        "    return np.array(hurst_array)\n",
        "\n",
        "def spectral_flatness(data_mat):\n",
        "    fs=10\n",
        "    if data_mat.ndim == 1:\n",
        "          freq,pxx= sp.signal.welch(normalize(data_mat),fs,scaling='spectrum' )\n",
        "          return sp.stats.mstats.gmean(pxx)/np.mean(pxx)\n",
        "\n",
        "    sf = []\n",
        "    for i,tis in enumerate(data_mat):\n",
        "        freq,pxx= sp.signal.welch(normalize(tis),fs,scaling='spectrum' )\n",
        "        sf.append(sp.stats.mstats.gmean(pxx)/np.mean(pxx))\n",
        "    return np.array(sf)\n",
        "\n",
        "\n",
        "def saving_model(model,json_name,h5name):\n",
        "    model_json = model.to_json()\n",
        "    with open(json_name, \"w\") as json_file:\n",
        "        json_file.write(model_json)\n",
        "    model.save_weights(h5name)\n",
        "\n",
        "def build_data_from_xlsx(input_file='../data/photoemittor_data.xlsx',num_files=4,lab=[0,1,2,3],trans=True,output_file=\"../data/metrics_ts_dataframe.xlsx\"):\n",
        "    \n",
        "    if trans == True:\n",
        "        data = [pd.read_excel(input_file, sheet_name=i, header=None).to_numpy().transpose() for i in range(num_files)]\n",
        "    else:\n",
        "        data = [pd.read_excel(input_file, sheet_name=i, header=None).to_numpy() for i in range(num_files)]\n",
        "    row_sizes = [data[i].shape[0] for i in range(num_files)]\n",
        "    max_time = np.max([data[i].shape[1] for i in range(num_files)])\n",
        "    data_pad = [pad_time(data[i],max_time) for i in range(num_files)]\n",
        "    data_mat = np.vstack(data_pad)\n",
        "    tmp = [row_sizes[i]*[l] for i,l in enumerate(lab)]\n",
        "    exp_labels = np.array([item for sublist in tmp for item in sublist])\n",
        "    quant_ex=np.zeros_like(exp_labels)\n",
        "    quant_exgo=np.zeros_like(exp_labels)\n",
        "    hurst_array = get_hurst(data_mat)\n",
        "    sf_array = spectral_flatness(data_mat)\n",
        "\n",
        "    data_cov,data_mean,data_std, data_vmr = ts_metrics(data_mat)\n",
        "    f_metrics = np.vstack([data_cov,data_mean,data_std,data_vmr,hurst_array,sf_array,exp_labels,quant_ex,quant_exgo]).T\n",
        "    df_labels = [\"cov\",\"mean\",\"stdev\",\"vmr\",\"hurst\",\"spectral_flatness\",\"exp_label\",\"quant_ex\",\"quant_exgo\"]\n",
        "    df_full = pd.DataFrame(f_metrics,columns=df_labels)\n",
        "    df = pd.DataFrame(data_mat)\n",
        "    writer = pd.ExcelWriter(output_file)\n",
        "    df_full.to_excel(writer, sheet_name = \"metrics\")\n",
        "    df.to_excel(writer, sheet_name = \"ts\")\n",
        "    writer.save()\n",
        "    writer.close()\n",
        "\n",
        "def snip_stats(data_mat,labels,num_steps,lag):\n",
        "    feature_matrix = []\n",
        "    label_vector = []\n",
        "    count=0\n",
        "    for i,tis in enumerate(data_mat):\n",
        "        sig = broadcasting_app(clean(tis),num_steps,lag)\n",
        "        num_pieces = sig.shape[0]\n",
        "        label_vector.extend(num_pieces*[labels[count]])\n",
        "        count+=1\n",
        "        for k in range(num_pieces):\n",
        "              # tmp = sig[k*num_steps:(k+1)*num_steps]\n",
        "            tmp = sig[k]\n",
        "            feature_matrix.append([ts_metrics(tmp),get_hurst(tmp),spectral_flatness(tmp)])\n",
        "\n",
        "    feature_matrix = np.array(feature_matrix)\n",
        "    label_vector = np.array(label_vector)\n",
        "\n",
        "    return feature_matrix,label_vector\n",
        "\n",
        "#read in data file for full time series\n",
        "def make_dict_entries(fname,num_files,lab,trans):\n",
        "    i_file = \"../data/{}_data.xlsx\".format(fname)\n",
        "    o_file = \"../data/{}_dataframe.xlsx\".format(fname)\n",
        "    if not os.path.exists(o_file):\n",
        "        print(\"Building the dataframe...\")\n",
        "        build_data_from_xlsx(input_file=i_file,num_files=num_files,lab=lab,trans=trans,output_file=o_file)\n",
        "\n",
        "    df  = pd.read_excel(o_file,sheet_name=\"metrics\",index_col=0)\n",
        "    ts = pd.read_excel(o_file,sheet_name = \"ts\",index_col=0).to_numpy()\n",
        "    return {fname:df}, {fname:ts}\n",
        "\n",
        "\n",
        "    "
      ],
      "execution_count": null,
      "outputs": []
    },
    {
      "cell_type": "markdown",
      "metadata": {
        "id": "fMSHxqWMdmDk"
      },
      "source": [
        "Building a dictionary of dataframes including the metrics and the time series themselves"
      ]
    },
    {
      "cell_type": "code",
      "metadata": {
        "id": "t54IVWQxKIyj"
      },
      "source": [
        "file_list = [\"orig_bogdanov\",\"orig_yichen\",\"oa_attempt_2\",\"oleic_hexane_five_hour\"]\n",
        "num_files = [4,6,1,1]\n",
        "label_list = [[0,1,2,3],[0,0,0,1,1,1],[0],[0]]\n",
        "trans_list = [True,False,False,False]\n",
        "df_dict = {}\n",
        "ts_dict = {}\n",
        "for i, fname in enumerate(file_list):\n",
        "    df,ts = make_dict_entries(fname,num_files[i],label_list[i],trans_list[i])\n",
        "    df_dict.update(df)\n",
        "    ts_dict.update(ts)"
      ],
      "execution_count": null,
      "outputs": []
    },
    {
      "cell_type": "markdown",
      "metadata": {
        "id": "QJKRYpp6d5hr"
      },
      "source": [
        "# Visualizing metric performance"
      ]
    },
    {
      "cell_type": "code",
      "metadata": {
        "id": "ueuhmPx4JYP3",
        "colab": {
          "base_uri": "https://localhost:8080/",
          "height": 565
        },
        "outputId": "6b6d360d-258f-43b5-b31d-621e3fa878bc"
      },
      "source": [
        "class_features=[\"cov\",\"hurst\",\"spectral_flatness\",\"exp_label\"]\n",
        "key = file_list[0]\n",
        "df = df_dict[key][class_features]\n",
        "cov_cutoff = .2\n",
        "hurst_cutoff = .5\n",
        "sns.set_theme(style=\"ticks\")\n",
        "mask = (df[\"cov\"]<=cov_cutoff) & (df[\"hurst\"] >= hurst_cutoff)\n",
        "sns.pairplot(data=df.loc[mask],kind='hist',hue=\"exp_label\",palette=\"tab10\",corner=True,plot_kws={'alpha':0.3})"
      ],
      "execution_count": null,
      "outputs": [
        {
          "output_type": "execute_result",
          "data": {
            "text/plain": [
              "<seaborn.axisgrid.PairGrid at 0x7fb05b852b50>"
            ]
          },
          "metadata": {},
          "execution_count": 12
        },
        {
          "output_type": "display_data",
          "data": {
            "image/png": "[encoded data removed]",
            "text/plain": [
              "<Figure size 605.925x540 with 9 Axes>"
            ]
          },
          "metadata": {}
        }
      ]
    },
    {
      "cell_type": "markdown",
      "metadata": {
        "id": "FykWHNRHa3WI"
      },
      "source": [
        "# Using a random forest regressor to find the optimal splitting for the classification"
      ]
    },
    {
      "cell_type": "code",
      "metadata": {
        "colab": {
          "base_uri": "https://localhost:8080/",
          "height": 791
        },
        "id": "IZy5mMokQxwV",
        "outputId": "0f83a9e4-1480-4716-c2ba-5fa467bb7480"
      },
      "source": [
        "key =\"orig_bogdanov\"\n",
        "df = df_dict[key]\n",
        "features = [\"cov\",\"hurst\",\"spectral_flatness\"]\n",
        "\n",
        "#target_ex is treating the \"excellent\" category as the only acceptable signals\n",
        "target_ex=df.exp_label.copy()\n",
        "target_ex[target_ex>1] = 1\n",
        "target_ex = 1-target_ex\n",
        "\n",
        "#target_exgo treats both excellent and good as acceptable\n",
        "target_exgo = df.exp_label.copy()\n",
        "target_exgo[target_exgo < 2] = 0\n",
        "target_exgo[target_exgo>1] = 1\n",
        "target_exgo = 1-target_exgo\n",
        "\n",
        "\n",
        "X_train, X_test, y_train, y_test = train_test_split(df[features], target_ex, test_size=0.8, stratify=target_ex, random_state=123456)\n",
        "rf_ex = RandomForestClassifier(n_estimators=100, oob_score=True, random_state=123456)\n",
        "rf_ex.fit(X_train, y_train)\n",
        "y_pred_ex = rf_ex.predict(X_test)\n",
        "accuracy = accuracy_score(y_test, y_pred_ex)\n",
        "print(f'Out-of-bag score estimate: {rf_ex.oob_score_:.3}')\n",
        "print(f'Mean accuracy score: {accuracy:.3}')\n",
        "conf_matrix = confusion_matrix(y_test, y_pred_ex)\n",
        "cm = pd.DataFrame(conf_matrix)\n",
        "sns.heatmap(cm, annot=True)\n",
        "plt.show()\n",
        "print(\"rows are the ground truth, columns are the prediction (I think)\")\n",
        "print(\"here's the impurity score of the feature importance\",rf_ex.feature_importances_)\n",
        "print(\"here's the balanced accuracy\", balanced_accuracy_score(y_test,y_pred_ex))\n",
        "print(\"recall\", recall_score(y_test,y_pred_ex))\n",
        "print(\"precision\", precision_score(y_test,y_pred_ex))\n",
        "print(\"roc_auc\", roc_auc_score(y_test,y_pred_ex))\n",
        "\n",
        "X_train, X_test, y_train, y_test = train_test_split(df[features], target_exgo, test_size=0.8, stratify=target_exgo, random_state=123456)\n",
        "rf_exgo = RandomForestClassifier(n_estimators=100, oob_score=True, random_state=123456)\n",
        "rf_exgo.fit(X_train, y_train)\n",
        "y_pred_exgo = rf_exgo.predict(X_test)\n",
        "accuracy = accuracy_score(y_test, y_pred_exgo)\n",
        "print(f'Out-of-bag score estimate: {rf_exgo.oob_score_:.3}')\n",
        "print(f'Mean accuracy score: {accuracy:.3}')\n",
        "conf_matrix = confusion_matrix(y_test, y_pred_exgo)\n",
        "cm = pd.DataFrame(conf_matrix)\n",
        "sns.heatmap(cm, annot=True)\n",
        "plt.show()\n",
        "print(\"rows are the ground truth, columns are the prediction (I think)\")\n",
        "print(\"here's the impurity score of the feature importance\",rf_exgo.feature_importances_)\n",
        "print(\"here's the balanced accuracy\", balanced_accuracy_score(y_test,y_pred_exgo))\n",
        "print(\"recall\", recall_score(y_test,y_pred_exgo))\n",
        "print(\"precision\", precision_score(y_test,y_pred_exgo))\n",
        "print(\"roc_auc\", roc_auc_score(y_test,y_pred_exgo))\n",
        "# estimator = rf.estimators_[5]\n",
        "\n",
        "# from sklearn.tree import export_graphviz\n",
        "# # Export as dot file\n",
        "# export_graphviz(estimator, out_file='tree.dot', \n",
        "#                 feature_names = features,\n",
        "#                 class_names = [str(i) for i in np.unique(target)],\n",
        "#                 rounded = True, proportion = False, \n",
        "#                 precision = 2, filled = True)\n",
        "\n",
        "# # Convert to png using system command (requires Graphviz)\n",
        "# from subprocess import call\n",
        "# call(['dot', '-Tpng', 'tree.dot', '-o', 'tree.png', '-Gdpi=600'])\n",
        "\n",
        "# # Display in jupyter notebook\n",
        "# from IPython.display import Image\n",
        "# Image(filename = 'tree.png')"
      ],
      "execution_count": null,
      "outputs": [
        {
          "output_type": "stream",
          "name": "stdout",
          "text": [
            "Out-of-bag score estimate: 0.923\n",
            "Mean accuracy score: 0.906\n"
          ]
        },
        {
          "output_type": "display_data",
          "data": {
            "image/png": "[encoded data removed]",
            "text/plain": [
              "<Figure size 432x288 with 2 Axes>"
            ]
          },
          "metadata": {}
        },
        {
          "output_type": "stream",
          "name": "stdout",
          "text": [
            "rows are the ground truth, columns are the prediction (I think)\n",
            "here's the impurity score of the feature importance [0.36508763 0.3514453  0.28346707]\n",
            "here's the balanced accuracy 0.7945117029862793\n",
            "recall 0.6285714285714286\n",
            "precision 0.7586206896551724\n",
            "roc_auc 0.7945117029862793\n",
            "Out-of-bag score estimate: 0.846\n",
            "Mean accuracy score: 0.769\n"
          ]
        },
        {
          "output_type": "display_data",
          "data": {
            "image/png": "[encoded data removed]",
            "text/plain": [
              "<Figure size 432x288 with 2 Axes>"
            ]
          },
          "metadata": {}
        },
        {
          "output_type": "stream",
          "name": "stdout",
          "text": [
            "rows are the ground truth, columns are the prediction (I think)\n",
            "here's the impurity score of the feature importance [0.37596237 0.43406068 0.18997695]\n",
            "here's the balanced accuracy 0.7690373563218391\n",
            "recall 0.7672413793103449\n",
            "precision 0.8018018018018018\n",
            "roc_auc 0.769037356321839\n"
          ]
        }
      ]
    },
    {
      "cell_type": "code",
      "metadata": {
        "id": "h7OcLj50ggMV"
      },
      "source": [
        "for key in df_dict.keys():\n",
        "    df= df_dict[key]\n",
        "    df.quant_ex=rf_ex.predict(df[features])\n",
        "    df.quant_exgo = rf_exgo.predict(df[features])"
      ],
      "execution_count": null,
      "outputs": []
    },
    {
      "cell_type": "code",
      "metadata": {
        "colab": {
          "base_uri": "https://localhost:8080/"
        },
        "id": "lJ2c5pYz79TN",
        "outputId": "cb82ba61-214e-4d2e-b3de-3b342ee89b21"
      },
      "source": [
        "key =file_list[1]\n",
        "df = df_dict[key]\n",
        "y_test = df.exp_label.copy()\n",
        "y_test[y_test>1] = 1\n",
        "y_test = 1-y_test\n",
        "y_pred = rf_ex.predict(df[features])\n",
        "print(\"here's the balanced accuracy\", balanced_accuracy_score(y_test,y_pred))\n",
        "print(\"recall\", recall_score(y_test,y_pred))\n",
        "print(\"precision\", precision_score(y_test,y_pred))\n",
        "print(\"roc_auc\", roc_auc_score(y_test,y_pred))\n",
        "print(y_pred)"
      ],
      "execution_count": 23,
      "outputs": [
        {
          "output_type": "stream",
          "name": "stdout",
          "text": [
            "here's the balanced accuracy 0.5172413793103449\n",
            "recall 0.034482758620689655\n",
            "precision 1.0\n",
            "roc_auc 0.5172413793103449\n",
            "[0 0 0 0 0 1 0 0 0 0 0 0 0 0 0 0 0 0 0 0 0 0 0 0 0 0 0 0 0 0 0 0 0 0 0 0 0\n",
            " 0 0 0 0 0 0 0 0 0 0 0 0 0 0 0 0 0 0 0 0 0 0 0 0 0 0 0 0 0 0 0 0 0 0 0 0 0\n",
            " 0 0 0 0 0 0 0 0 0 0 0 0 0 0 0 0 0 0 0 0 0 0 0 0 0 0 0 0 0 0 0 0 0 0 0 0 0\n",
            " 0]\n"
          ]
        }
      ]
    },
    {
      "cell_type": "code",
      "metadata": {
        "colab": {
          "base_uri": "https://localhost:8080/"
        },
        "id": "BQna0rghK4RY",
        "outputId": "11d74993-95b2-4288-b868-f0ce3236b851"
      },
      "source": [
        "key =file_list[0]\n",
        "mat = ts_dict[key]\n",
        "df= df_dict[key]\n",
        "feature_matrix,label_vector = snip_stats(mat,df.quant_exgo,100,30)\n",
        "print(feature_matrix.shape)\n",
        "f_metrics = np.hstack([feature_matrix,label_vector[:,np.newaxis]])\n",
        "df_labels = [\"cov\",\"hurst\",\"spectral_flatness\",\"label\"]\n",
        "ten_sec_df = pd.DataFrame(f_metrics,columns=df_labels)\n"
      ],
      "execution_count": null,
      "outputs": [
        {
          "output_type": "stream",
          "name": "stderr",
          "text": [
            "/usr/local/lib/python3.7/dist-packages/scipy/signal/spectral.py:1966: UserWarning: nperseg = 256 is greater than input length  = 100, using nperseg = 100\n",
            "  .format(nperseg, input_length))\n"
          ]
        },
        {
          "output_type": "stream",
          "name": "stdout",
          "text": [
            "(2162, 3)\n"
          ]
        }
      ]
    },
    {
      "cell_type": "code",
      "metadata": {
        "colab": {
          "base_uri": "https://localhost:8080/"
        },
        "id": "V5aS3bhUtnL0",
        "outputId": "af645a92-8784-433f-b014-bc953729b616"
      },
      "source": [
        "y_test = ten_sec_df.label\n",
        "y_pred_ex = rf_exgo.predict(ten_sec_df[features])\n",
        "print(\"here's the balanced accuracy\", balanced_accuracy_score(y_test,y_pred_ex))\n",
        "print(\"recall\", recall_score(y_test,y_pred_ex))\n",
        "print(\"precision\", precision_score(y_test,y_pred_ex))"
      ],
      "execution_count": null,
      "outputs": [
        {
          "output_type": "stream",
          "name": "stdout",
          "text": [
            "here's the balanced accuracy 0.7281505989451832\n",
            "recall 0.5612691466083151\n",
            "precision 0.796583850931677\n"
          ]
        }
      ]
    },
    {
      "cell_type": "code",
      "metadata": {
        "colab": {
          "base_uri": "https://localhost:8080/",
          "height": 388
        },
        "id": "3qW7GQD55Pw_",
        "outputId": "ee187e1e-fdc0-42e8-eae5-13bfb2ee2c75"
      },
      "source": [
        "key = file_list[2]\n",
        "ts = ts_dict[key]\n",
        "df = df_dict[key]\n",
        "fig = plt.figure(figsize=(12,6))\n",
        "colors=['b','orange','g','r']\n",
        "for i,tis in enumerate(ts[0:7]):\n",
        "    plt.plot(tis,alpha=.3)#color=colors[df.exp_label.values[i]],alpha=.3)\n",
        "# plt.ylim([0,500000.00])"
      ],
      "execution_count": null,
      "outputs": [
        {
          "output_type": "display_data",
          "data": {
            "image/png": "[encoded data removed]",
            "text/plain": [
              "<Figure size 864x432 with 1 Axes>"
            ]
          },
          "metadata": {}
        }
      ]
    },
    {
      "cell_type": "markdown",
      "metadata": {
        "id": "ZCvp000YfOCK"
      },
      "source": [
        "Given the bogdanov labeling and the metrics, let's try building a hyperplane model that performs close to the same classification"
      ]
    },
    {
      "cell_type": "code",
      "metadata": {
        "id": "QTcyzUpc20Mn"
      },
      "source": [
        "#train for Bogdanov classification via hyperplane\n",
        "input_json = \"../models/class_model.json\"\n",
        "input_h5 = \"../models/class_model.h5\"\n",
        "\n",
        "if os.path.exists(input_json) and os.path.exists(input_h5):\n",
        "    print(\"already have the model available\")\n",
        "    json_file = open(input_json, 'r')\n",
        "    class_model_json = json_file.read()\n",
        "    json_file.close()\n",
        "    class_model = model_from_json(class_model_json)\n",
        "    class_model.load_weights(input_h5)\n",
        "else:\n",
        "    rel_features = [\"cov\",\"vmr\",\"hurst_int\"]\n",
        "    batch_size=16\n",
        "    epochs=1000\n",
        "    target_labels = df_full[\"bog_label\"].to_numpy()\n",
        "    target_labels[target_labels>0] = 1  \n",
        "    class_model = create_larger(in_dim = len(rel_features))\n",
        "    class_model.fit(df_full[rel_features].to_numpy(),target_labels,batch_size=batch_size,epochs=epochs)\n",
        "    dense=class_model.get_layer(\"dense\")\n",
        "    print(dense.get_weights())\n",
        "    hyper_labels = np.rint(class_model.predict(df_full[rel_features].to_numpy()))\n",
        "    saving_model(class_model,input_json,input_h5)"
      ],
      "execution_count": null,
      "outputs": []
    },
    {
      "cell_type": "markdown",
      "metadata": {
        "id": "gpeH5TCrLdkj"
      },
      "source": [
        "Given a trained classifier based upon the cov,vmr, and possible the hurst_int, let's now check how this classification performs on the new dataset Yichen classified"
      ]
    },
    {
      "cell_type": "code",
      "metadata": {
        "colab": {
          "base_uri": "https://localhost:8080/",
          "height": 221
        },
        "id": "ath2BgVvLch7",
        "outputId": "bb117dbc-ad20-4b6c-996f-51632f7934f3"
      },
      "source": [
        "\n",
        "class_model.evaluate(test_df_full[rel_features],test_df_full['bog_label'])"
      ],
      "execution_count": null,
      "outputs": [
        {
          "output_type": "display_data",
          "data": {
            "text/html": [
              "\n",
              "  <style>\n",
              "    pre {\n",
              "        white-space: pre-wrap;\n",
              "    }\n",
              "  </style>\n",
              "  "
            ],
            "text/plain": [
              "<IPython.core.display.HTML object>"
            ]
          },
          "metadata": {}
        },
        {
          "output_type": "stream",
          "name": "stdout",
          "text": [
            "4/4 [==============================] - 1s 4ms/step - loss: 0.2589 - binary_accuracy: 0.7411 - precision_4: 0.7411 - recall_4: 1.0000 - tp: 83.0000 - fp: 29.0000 - tn: 0.0000e+00 - fn: 0.0000e+00 - auc: 0.5000 - prc: 0.7411\n"
          ]
        },
        {
          "output_type": "execute_result",
          "data": {
            "text/plain": [
              "[0.25892531871795654,\n",
              " 0.7410714030265808,\n",
              " 0.7410714030265808,\n",
              " 1.0,\n",
              " 83.0,\n",
              " 29.0,\n",
              " 0.0,\n",
              " 0.0,\n",
              " 0.5,\n",
              " 0.7410714030265808]"
            ]
          },
          "metadata": {},
          "execution_count": 53
        }
      ]
    },
    {
      "cell_type": "markdown",
      "metadata": {
        "id": "yofaGAqJhE2R"
      },
      "source": [
        "Given a revised classification based upon hyperplanes, we now want to attempt a prediction based upon only num_steps values of the time series. To give ourselves more data points, we use overlapping segments of the time series, generated by choosing a lag. The larger the lag, the fewer time series we have to work with\n",
        "\n",
        "---\n",
        "\n"
      ]
    },
    {
      "cell_type": "code",
      "metadata": {
        "id": "nL5X0ipxJd5v"
      },
      "source": [
        "feature_matrix = []\n",
        "label_vector = []\n",
        "count = 0\n",
        "lag = 30\n",
        "num_steps= 50\n",
        "rel_labels=hyper_labels\n",
        "\n",
        "for i in data_mat:\n",
        "      sig = broadcasting_app(clean(i),num_steps,lag)\n",
        "      num_pieces = sig.shape[0]\n",
        "      label_vector.extend(num_pieces*[rel_labels[count]])\n",
        "      count+=1\n",
        "      for k in range(num_pieces):\n",
        "            # tmp = sig[k*num_steps:(k+1)*num_steps]\n",
        "          tmp = sig[k]\n",
        "          feature_matrix.append(cov_vmr(tmp))\n",
        "\n",
        "feature_matrix = np.array(feature_matrix)\n",
        "label_vector = np.array(label_vector)\n",
        "\n",
        "stat_mat = np.hstack([feature_matrix,label_vector])"
      ],
      "execution_count": null,
      "outputs": []
    },
    {
      "cell_type": "code",
      "metadata": {
        "id": "sOwaCgp4JhcN"
      },
      "source": [
        "# %%capture dat\n",
        "estimators = [('mlp', KerasClassifier(build_fn=create_larger, epochs=500, batch_size=32, verbose=1))]\n",
        "pipeline = Pipeline(estimators)\n",
        "from sklearn.model_selection import cross_validate\n",
        "kfold = StratifiedKFold(n_splits=8, shuffle=True)\n",
        "results = cross_val_score(pipeline, feature_matrix, label_vector, cv=kfold,scoring='balanced_accuracy')\n",
        "print(results,results.mean(),results.std())"
      ],
      "execution_count": null,
      "outputs": []
    },
    {
      "cell_type": "code",
      "metadata": {
        "id": "FXAb3TDs5s3-"
      },
      "source": [
        "batch_size=16\n",
        "epochs=1000\n",
        "input_json = \"../models/pred_model.json\"\n",
        "input_h5 = \"../models/pred_model.h5\"\n",
        "pred_model = create_larger(in_dim =feature_matrix.shape[1])\n",
        "pred_model.fit(feature_matrix,label_vector,batch_size=batch_size,epochs=epochs)\n",
        "dense=pred_model.get_layer(\"dense\")\n",
        "print(dense.get_weights())\n",
        "saving_model(pred_model,input_json,input_h5)"
      ],
      "execution_count": null,
      "outputs": []
    }
  ]
}